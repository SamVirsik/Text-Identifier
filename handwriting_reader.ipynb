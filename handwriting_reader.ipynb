{
 "cells": [
  {
   "cell_type": "markdown",
   "metadata": {},
   "source": [
    "# Handwriting Reader"
   ]
  },
  {
   "cell_type": "code",
   "execution_count": 1,
   "metadata": {},
   "outputs": [
    {
     "name": "stdout",
     "output_type": "stream",
     "text": [
      "pygame 2.5.2 (SDL 2.28.3, Python 3.9.13)\n",
      "Hello from the pygame community. https://www.pygame.org/contribute.html\n"
     ]
    },
    {
     "data": {
      "text/plain": [
       "'\\nfrom tensorflow.keras import layers\\nfrom tensorflow.keras.models import Sequential\\nfrom tensorflow.keras.layers import Dense, InputLayer\\nfrom tensorflow.keras.activations import relu,linear, softmax\\n'"
      ]
     },
     "execution_count": 1,
     "metadata": {},
     "output_type": "execute_result"
    }
   ],
   "source": [
    "import numpy as np\n",
    "import pandas as pd\n",
    "import matplotlib.pyplot as plt\n",
    "import seaborn as sns\n",
    "from sklearn.model_selection import train_test_split\n",
    "import tensorflow as tf\n",
    "import keras\n",
    "import pygame\n",
    "from PIL import Image\n",
    "\n",
    "from tensorflow.keras.optimizers import Adam\n",
    "from tensorflow.keras.losses import SparseCategoricalCrossentropy\n",
    "'''\n",
    "from tensorflow.keras import layers\n",
    "from tensorflow.keras.models import Sequential\n",
    "from tensorflow.keras.layers import Dense, InputLayer\n",
    "from tensorflow.keras.activations import relu,linear, softmax\n",
    "'''"
   ]
  },
  {
   "cell_type": "code",
   "execution_count": 65,
   "metadata": {},
   "outputs": [],
   "source": [
    "#I figured out these locations once and then saved them\n",
    "#Essentially this data is too much so I am finding the sections\n",
    "#which correspond to each letter so I can grab certain chunks of the data to train\n",
    "start_letter_locations = {0: 0, 1: 13869, 2: 22537, 3: 45946, 4: 56080, 5: 67520, \n",
    "                          6: 68683, 7: 74445, 8: 81663, 9: 82783, 10: 91276, 11: 96879, \n",
    "                          12: 108465, 13: 120801, 14: 139811, 15: 197636, 16: 216977, \n",
    "                          17: 222789, 18: 234355, 19: 282774, 20: 305269, 21: 334277, \n",
    "                          22: 338459, 23: 349243, 24: 355515, 25: 366374}\n",
    "\n",
    "#df = pd.read_csv('Data\\A_Z Handwritten Data.csv', skiprows=10000, nrows=10000)\n",
    "path = 'Data\\A_Z Handwritten Data.csv'\n",
    "\n",
    "num_rows = 5000 #should be 5000\n",
    "\n",
    "df = pd.read_csv(path, nrows=num_rows)\n",
    "\n",
    "for i in range(1, 26):\n",
    "    df_temp = pd.read_csv(path, skiprows=lambda x: x not in [0] and x < start_letter_locations[i], nrows=num_rows+1)\n",
    "    #print(df_temp)\n",
    "    df = pd.concat([df, df_temp], ignore_index=True)\n",
    "    #df = df.append(df_temp, ignore_index=True)\n",
    "    #pd.concat(objs, axis=0, join=’outer’, ignore_index=False, keys=None)\n",
    "\n",
    "y = df['0']\n",
    "X = df.drop('0', axis=1)\n",
    "X = X / 255\n",
    "\n",
    "X_train, X_test, y_train, y_test = train_test_split(X, y, test_size=0.2)"
   ]
  },
  {
   "cell_type": "code",
   "execution_count": 3,
   "metadata": {},
   "outputs": [
    {
     "data": {
      "text/plain": [
       "array([ 0,  1,  2,  3,  4,  5,  6,  7,  8,  9, 10, 11, 12, 13, 14, 15, 16,\n",
       "       17, 18, 19, 20, 21, 22, 23, 24, 25], dtype=int64)"
      ]
     },
     "execution_count": 3,
     "metadata": {},
     "output_type": "execute_result"
    }
   ],
   "source": [
    "y.unique()"
   ]
  },
  {
   "cell_type": "code",
   "execution_count": 66,
   "metadata": {},
   "outputs": [],
   "source": [
    "model = keras.Sequential()\n",
    "model.add(keras.layers.Input(shape=(X_train.shape[1],)))\n",
    "model.add(keras.layers.Dense(128, activation='relu'))\n",
    "model.add(keras.layers.Dense(64, activation='relu'))\n",
    "model.add(keras.layers.Dense(26, activation='linear'))\n",
    "model.add(keras.layers.Softmax())\n",
    "\n",
    "model.compile(optimizer=Adam(learning_rate=0.0001), loss=SparseCategoricalCrossentropy(from_logits=True), metrics=['accuracy'])"
   ]
  },
  {
   "cell_type": "code",
   "execution_count": 67,
   "metadata": {},
   "outputs": [
    {
     "name": "stdout",
     "output_type": "stream",
     "text": [
      "Epoch 1/10\n"
     ]
    },
    {
     "name": "stderr",
     "output_type": "stream",
     "text": [
      "c:\\Users\\SamV\\Documents\\School\\Senior Year\\FINAL HANDWRITING\\.venv\\lib\\site-packages\\keras\\src\\backend\\tensorflow\\nn.py:625: UserWarning: \"`sparse_categorical_crossentropy` received `from_logits=True`, but the `output` argument was produced by a Softmax activation and thus does not represent logits. Was this intended?\n",
      "  output, from_logits = _get_logits(\n"
     ]
    },
    {
     "name": "stdout",
     "output_type": "stream",
     "text": [
      "\u001b[1m3237/3251\u001b[0m \u001b[32m━━━━━━━━━━━━━━━━━━━\u001b[0m\u001b[37m━\u001b[0m \u001b[1m0s\u001b[0m 2ms/step - accuracy: 0.5523 - loss: 1.7318"
     ]
    },
    {
     "name": "stderr",
     "output_type": "stream",
     "text": [
      "c:\\Users\\SamV\\Documents\\School\\Senior Year\\FINAL HANDWRITING\\.venv\\lib\\site-packages\\keras\\src\\backend\\tensorflow\\nn.py:625: UserWarning: \"`sparse_categorical_crossentropy` received `from_logits=True`, but the `output` argument was produced by a Softmax activation and thus does not represent logits. Was this intended?\n",
      "  output, from_logits = _get_logits(\n"
     ]
    },
    {
     "name": "stdout",
     "output_type": "stream",
     "text": [
      "\u001b[1m3251/3251\u001b[0m \u001b[32m━━━━━━━━━━━━━━━━━━━━\u001b[0m\u001b[37m\u001b[0m \u001b[1m11s\u001b[0m 3ms/step - accuracy: 0.5531 - loss: 1.7289 - val_accuracy: 0.8339 - val_loss: 0.6162\n",
      "Epoch 2/10\n",
      "\u001b[1m3251/3251\u001b[0m \u001b[32m━━━━━━━━━━━━━━━━━━━━\u001b[0m\u001b[37m\u001b[0m \u001b[1m8s\u001b[0m 3ms/step - accuracy: 0.8501 - loss: 0.5597 - val_accuracy: 0.8679 - val_loss: 0.4873\n",
      "Epoch 3/10\n",
      "\u001b[1m3251/3251\u001b[0m \u001b[32m━━━━━━━━━━━━━━━━━━━━\u001b[0m\u001b[37m\u001b[0m \u001b[1m8s\u001b[0m 3ms/step - accuracy: 0.8812 - loss: 0.4465 - val_accuracy: 0.8879 - val_loss: 0.4158\n",
      "Epoch 4/10\n",
      "\u001b[1m3251/3251\u001b[0m \u001b[32m━━━━━━━━━━━━━━━━━━━━\u001b[0m\u001b[37m\u001b[0m \u001b[1m9s\u001b[0m 3ms/step - accuracy: 0.9013 - loss: 0.3735 - val_accuracy: 0.9035 - val_loss: 0.3596\n",
      "Epoch 5/10\n",
      "\u001b[1m3251/3251\u001b[0m \u001b[32m━━━━━━━━━━━━━━━━━━━━\u001b[0m\u001b[37m\u001b[0m \u001b[1m8s\u001b[0m 3ms/step - accuracy: 0.9136 - loss: 0.3266 - val_accuracy: 0.9133 - val_loss: 0.3187\n",
      "Epoch 6/10\n",
      "\u001b[1m3251/3251\u001b[0m \u001b[32m━━━━━━━━━━━━━━━━━━━━\u001b[0m\u001b[37m\u001b[0m \u001b[1m8s\u001b[0m 3ms/step - accuracy: 0.9240 - loss: 0.2868 - val_accuracy: 0.9224 - val_loss: 0.2889\n",
      "Epoch 7/10\n",
      "\u001b[1m3251/3251\u001b[0m \u001b[32m━━━━━━━━━━━━━━━━━━━━\u001b[0m\u001b[37m\u001b[0m \u001b[1m9s\u001b[0m 3ms/step - accuracy: 0.9330 - loss: 0.2548 - val_accuracy: 0.9281 - val_loss: 0.2622\n",
      "Epoch 8/10\n",
      "\u001b[1m3251/3251\u001b[0m \u001b[32m━━━━━━━━━━━━━━━━━━━━\u001b[0m\u001b[37m\u001b[0m \u001b[1m9s\u001b[0m 3ms/step - accuracy: 0.9396 - loss: 0.2308 - val_accuracy: 0.9349 - val_loss: 0.2395\n",
      "Epoch 9/10\n",
      "\u001b[1m3251/3251\u001b[0m \u001b[32m━━━━━━━━━━━━━━━━━━━━\u001b[0m\u001b[37m\u001b[0m \u001b[1m9s\u001b[0m 3ms/step - accuracy: 0.9448 - loss: 0.2094 - val_accuracy: 0.9389 - val_loss: 0.2253\n",
      "Epoch 10/10\n",
      "\u001b[1m3251/3251\u001b[0m \u001b[32m━━━━━━━━━━━━━━━━━━━━\u001b[0m\u001b[37m\u001b[0m \u001b[1m9s\u001b[0m 3ms/step - accuracy: 0.9484 - loss: 0.1978 - val_accuracy: 0.9403 - val_loss: 0.2161\n"
     ]
    }
   ],
   "source": [
    "hist = model.fit(X_train, y_train, epochs=10, validation_data=(X_test, y_test))"
   ]
  },
  {
   "cell_type": "code",
   "execution_count": 6,
   "metadata": {},
   "outputs": [
    {
     "name": "stdout",
     "output_type": "stream",
     "text": [
      "\u001b[1m1/1\u001b[0m \u001b[32m━━━━━━━━━━━━━━━━━━━━\u001b[0m\u001b[37m\u001b[0m \u001b[1m0s\u001b[0m 37ms/step - accuracy: 0.1290 - loss: 3.2378\n",
      "Accuracy: 0.1290\n"
     ]
    }
   ],
   "source": [
    "test_loss, test_acc = model.evaluate(X_test, y_test)\n",
    "print(f'Accuracy: {test_acc:.4f}')  # formatted to show 4 decimal places"
   ]
  },
  {
   "cell_type": "code",
   "execution_count": 68,
   "metadata": {},
   "outputs": [
    {
     "data": {
      "image/png": "[encoded data removed]",
      "text/plain": [
       "<Figure size 640x480 with 1 Axes>"
      ]
     },
     "metadata": {},
     "output_type": "display_data"
    },
    {
     "name": "stdout",
     "output_type": "stream",
     "text": [
      "\u001b[1m1/1\u001b[0m \u001b[32m━━━━━━━━━━━━━━━━━━━━\u001b[0m\u001b[37m\u001b[0m \u001b[1m0s\u001b[0m 83ms/step\n",
      "Model Prediction:  A\n"
     ]
    }
   ],
   "source": [
    "letters = []\n",
    "for i in range(65, 91):\n",
    "    letter = chr(i)\n",
    "    letters.append(letter)\n",
    "\n",
    "random_index = 15\n",
    "plt.imshow(X.iloc[random_index].values.reshape(28, 28), cmap='crest')\n",
    "plt.show()\n",
    "\n",
    "prediction = model.predict(np.array([X.iloc[random_index].values]))\n",
    "print('Model Prediction: ', letters[np.argmax(prediction)])"
   ]
  },
  {
   "cell_type": "code",
   "execution_count": 9,
   "metadata": {},
   "outputs": [],
   "source": [
    "#This function just turns the users drawn image into the format which \n",
    "#is the same as that of the dataset which I trained on. \n",
    "def downsample(df, block_size):\n",
    "    arr = df.to_numpy()\n",
    "\n",
    "    new_height = arr.shape[0] // block_size\n",
    "    new_width = arr.shape[1] // block_size\n",
    "\n",
    "    new_arr = np.zeros((new_height, new_width), dtype=bool)\n",
    "    count_arr = np.zeros((new_height, new_width), dtype=int)\n",
    "\n",
    "    for i in range(new_height):\n",
    "        for j in range(new_width):\n",
    "            vertical_slice = slice(i * block_size, (i + 1) * block_size)\n",
    "            horizontal_slice = slice(j * block_size, (j + 1) * block_size)\n",
    "\n",
    "            block = arr[vertical_slice, horizontal_slice]\n",
    "\n",
    "            new_arr[i, j] = np.any(block)\n",
    "            count_arr[i, j] = np.sum(block)\n",
    "\n",
    "    return (pd.DataFrame(new_arr), pd.DataFrame(count_arr))\n",
    "\n",
    "\n",
    "    '''\n",
    "    lists = [[] for _ in range(28)]\n",
    "    #df_lists = pd.DataFrame(np.nan, index=range(28), columns=range(28))\n",
    "\n",
    "    for i in range(block_size):\n",
    "        for j in range(block_size):\n",
    "            all_vals = []\n",
    "            for m in range(28):\n",
    "                for n in range(28):\n",
    "                    row = (i*28) + m\n",
    "                    col = (j*28) + n\n",
    "                    val = df.iloc[row, col]\n",
    "                    all_vals.append(val)\n",
    "            lists[i].append(all_vals)\n",
    "\n",
    "    bool_list = pd.DataFrame(np.nan, index=range(28), columns=range(28))\n",
    "    count_list = pd.DataFrame(np.nan, index=range(28), columns=range(28))\n",
    "\n",
    "    for r in range(len(lists)):\n",
    "        for c in range(len(lists[r])):\n",
    "            count = sum(lists[r][c])\n",
    "            if count > 0:\n",
    "                bool_list.iloc[r, c] = True\n",
    "            else:\n",
    "                bool_list.iloc[r, c] = False\n",
    "            count_list.iloc[r, c] = count\n",
    "\n",
    "    return (bool_list, count_list)\n",
    "    '''"
   ]
  },
  {
   "cell_type": "code",
   "execution_count": 10,
   "metadata": {},
   "outputs": [],
   "source": [
    "#This just turns a dataframe in our usual formatting to an image\n",
    "def df_to_image(df):\n",
    "    array = df.to_numpy()\n",
    "    #The next two lines came from chatGPT 3.5\n",
    "    image_data = np.where(array, 0, 255).astype(np.uint8)\n",
    "    img = Image.fromarray(image_data, 'L')  # 'L' mode for grayscale\n",
    "    return img"
   ]
  },
  {
   "cell_type": "code",
   "execution_count": 11,
   "metadata": {},
   "outputs": [],
   "source": [
    "#This function makes the final image for the model using the \n",
    "#number of filled in pixels, not only the true false value for \n",
    "#if a pixel is filled. This is an attempt at making user input formatted\n",
    "#more similarly to the original dataset\n",
    "def get_color_image_from_counts(df, df_counts):    \n",
    "    initial_color_intensity = 255\n",
    "\n",
    "    df_color = pd.DataFrame(index=df_counts.index, columns=df_counts.columns)\n",
    "\n",
    "    # Loop over each cell in the DataFrame\n",
    "\n",
    "    max = df_counts.max().max()\n",
    "\n",
    "    df_color = df_counts.applymap(lambda x: (initial_color_intensity*(5/6)) + (initial_color_intensity/2)*(x/max) if x>0 else 0) / 255\n",
    "\n",
    "    df_color_copy = df_color.copy()\n",
    "\n",
    "    for intensity in range(1, 3):\n",
    "        df_copy = df.copy()\n",
    "        for r in range(len(df_copy)):\n",
    "            for c, col_name in enumerate(df_copy.columns):\n",
    "                if not df_copy.at[r, c]:\n",
    "                    surrounding_list = []\n",
    "                    for r_add in range(-1, 2):\n",
    "                        for c_add in range(-1, 2):\n",
    "                            if r+r_add != -1:\n",
    "                                try:\n",
    "                                    surrounding_list.append(df_color.iat[r+r_add, c+c_add])\n",
    "                                except IndexError:\n",
    "                                    pass\n",
    "                    if any(surrounding_list):\n",
    "                        nonzero_numbers = [num for num in surrounding_list if num != 0]\n",
    "                        average_nonzero = sum(nonzero_numbers) / len(nonzero_numbers) if nonzero_numbers else 0\n",
    "                        color = (average_nonzero * (0.4**intensity))\n",
    "                        #color = (initial_color_intensity / (2**intensity))/255\n",
    "                        df_color_copy.at[r, c] = color\n",
    "                        df.at[r, c] = True\n",
    "        df_color = df_color_copy\n",
    "    return df_color"
   ]
  },
  {
   "cell_type": "code",
   "execution_count": 12,
   "metadata": {},
   "outputs": [],
   "source": [
    "def get_color_image(df):\n",
    "\n",
    "    initial_color_intensity = 255\n",
    "\n",
    "    df_color = df.applymap(lambda x: initial_color_intensity if x else 0) / 255\n",
    "\n",
    "    for intensity in range(2, 3):\n",
    "        df_copy = df.copy()\n",
    "        for r in range(len(df_copy)):\n",
    "            for c, col_name in enumerate(df_copy.columns):\n",
    "                if not df_copy.at[r, c]:\n",
    "                    surrounding_list = []\n",
    "                    for r_add in range(-1, 2):\n",
    "                        for c_add in range(-1, 2):\n",
    "                            if r+r_add != -1:\n",
    "                                try:\n",
    "                                    surrounding_list.append(df_copy.iat[r+r_add, c+c_add])\n",
    "                                except IndexError:\n",
    "                                    pass\n",
    "                    if True in surrounding_list:\n",
    "                        #color = (df_color.at[r, c] / (2**intensity))/255\n",
    "                        color = (initial_color_intensity / (2**intensity))/255\n",
    "                        df_color.at[r, c] = color\n",
    "                        df.at[r, c] = True\n",
    "    return df_color"
   ]
  },
  {
   "cell_type": "code",
   "execution_count": 27,
   "metadata": {},
   "outputs": [],
   "source": [
    "def intro_loop(screen):\n",
    "\n",
    "    width, height = 28**2, 28**2  \n",
    "    background_color = (0, 0, 0)\n",
    "    draw_color = (255, 255, 255)\n",
    "\n",
    "    pygame.display.set_caption(\"Instruction Screen\")\n",
    "    title = \"Handwriting Interpreter\"\n",
    "    instructions1 = \"A black screen will appear.\"\n",
    "    instructions2 = \"Write a capital letter on the screen.\"\n",
    "    instructions3 = r\"When you are done writing, click 'Enter'\"\n",
    "    instructions4 = r\"Click 'Enter' when you are ready to begin.\"\n",
    "\n",
    "    screen.fill(background_color)\n",
    "\n",
    "    running = True\n",
    "    want_to_end = False\n",
    "    while running:\n",
    "        for event in pygame.event.get():\n",
    "            if event.type == pygame.QUIT:\n",
    "                running = False\n",
    "                want_to_end = True\n",
    "            elif event.type == pygame.KEYDOWN:\n",
    "                if event.key == pygame.K_RETURN: \n",
    "                    running = False\n",
    "\n",
    "        screen.fill(background_color)\n",
    "\n",
    "        #Chat helped with the syntax for a few of the following lines, namely the text_rect lines\n",
    "        font = pygame.font.Font(None, 70)\n",
    "        text = font.render(title, True, draw_color)\n",
    "        text_rect = text.get_rect(center=(width//2, height//4))\n",
    "        screen.blit(text, text_rect)\n",
    "\n",
    "        font = pygame.font.Font(None, 45)\n",
    "        text = font.render(instructions1, True, draw_color)\n",
    "        text_rect = text.get_rect(center=(width//2, 6*height//16))\n",
    "        screen.blit(text, text_rect)\n",
    "        text = font.render(instructions2, True, draw_color)\n",
    "        text_rect = text.get_rect(center=(width//2, 7*height//16))\n",
    "        screen.blit(text, text_rect)\n",
    "        text = font.render(instructions3, True, draw_color)\n",
    "        text_rect = text.get_rect(center=(width//2, 8*height//16))\n",
    "        screen.blit(text, text_rect)\n",
    "\n",
    "        font = pygame.font.Font(None, 55)\n",
    "        text = font.render(instructions4, True, draw_color)\n",
    "        text_rect = text.get_rect(center=(width//2, 12*height//16))\n",
    "        screen.blit(text, text_rect)\n",
    "\n",
    "        pygame.display.flip()\n",
    "    return want_to_end"
   ]
  },
  {
   "cell_type": "code",
   "execution_count": 43,
   "metadata": {},
   "outputs": [],
   "source": [
    "def take_input(screen):\n",
    "\n",
    "    width, height = 28**2, 28**2  \n",
    "    background_color = (0, 0, 0)\n",
    "    draw_color = (255, 255, 255)\n",
    "    line_thickness = 2\n",
    "\n",
    "    pygame.display.set_caption(\"Draw Here!\")\n",
    "    screen.fill(background_color)\n",
    "    clock = pygame.time.Clock()\n",
    "\n",
    "    drawing = False\n",
    "    running = True\n",
    "    want_to_end = False\n",
    "\n",
    "    while running:\n",
    "        for event in pygame.event.get():\n",
    "            if event.type == pygame.QUIT:\n",
    "                running = False\n",
    "                want_to_end = True\n",
    "            elif event.type == pygame.KEYDOWN:\n",
    "                if event.key == pygame.K_RETURN:\n",
    "                    running = False\n",
    "            elif event.type == pygame.MOUSEBUTTONDOWN:\n",
    "                drawing = True\n",
    "            elif event.type == pygame.MOUSEBUTTONUP:\n",
    "                drawing = False\n",
    "            elif event.type == pygame.MOUSEMOTION and drawing:\n",
    "                pygame.draw.circle(screen, draw_color, event.pos, line_thickness)\n",
    "\n",
    "        pygame.display.flip()\n",
    "        clock.tick(60)\n",
    "\n",
    "    #Chat GPT 3.5 helped with the following 4 lines of code\n",
    "    buffer_string = pygame.image.tostring(screen, 'RGB')\n",
    "    image = pygame.image.fromstring(buffer_string, (width, height), 'RGB')\n",
    "    array = pygame.surfarray.array3d(image)\n",
    "\n",
    "    is_colored = np.any(array != np.array(background_color).reshape(1, 1, 3), axis=2)\n",
    "\n",
    "    df = pd.DataFrame(is_colored)\n",
    "    df_condensed, df_counts = downsample(df, 28)\n",
    "\n",
    "    return (df_condensed, df_counts, want_to_end)"
   ]
  },
  {
   "cell_type": "code",
   "execution_count": 52,
   "metadata": {},
   "outputs": [],
   "source": [
    "def handle_input(df_condensed, df_counts):\n",
    "\n",
    "    df_condensed = df_condensed.T #Because it was formatting and shaping it wrong otherwise\n",
    "    df_condensed_final = df_condensed.copy()\n",
    "\n",
    "    df_counts = df_counts.T\n",
    "    df_counts_final = df_counts.copy()\n",
    "\n",
    "    ### THIS IS PLACE TO CHANGE WHICH DRAWING METHOD IS USED:\n",
    "    df_color = get_color_image_from_counts(df_condensed_final, df_counts_final)\n",
    "    #df_color = get_color_image(df_condensed_final)\n",
    "\n",
    "    df_color = pd.DataFrame(df_color.values.flatten()).T\n",
    "    #plt.imshow(df_color.iloc[0].values.reshape(28, 28), cmap='crest')\n",
    "\n",
    "    #plt.show()\n",
    "\n",
    "    pred_v = model.predict(np.array([df_color.iloc[0].values]))\n",
    "    final_pred = letters[np.argmax(pred_v)]\n",
    "\n",
    "    #print('Model Prediction: ', final_pred)\n",
    "    \n",
    "    return (df_color, final_pred)"
   ]
  },
  {
   "cell_type": "code",
   "execution_count": 63,
   "metadata": {},
   "outputs": [],
   "source": [
    "def display_output(screen, df_color, final_pred):\n",
    "    \n",
    "    width, height = 28**2, 28**2  \n",
    "    background_color = (0, 0, 0)\n",
    "    draw_color = (255, 255, 255)\n",
    "\n",
    "    screen.fill(background_color)\n",
    "\n",
    "    font = pygame.font.Font(None, 40)\n",
    "    text = font.render(\"Model Prediction:\", True, draw_color)\n",
    "    text_rect = text.get_rect(center=(width//2, height//4))\n",
    "    screen.blit(text, text_rect)\n",
    "\n",
    "    font = pygame.font.Font(None, 500)\n",
    "    text = font.render(str(final_pred), True, draw_color)\n",
    "    text_rect = text.get_rect(center=(width//2, height//2))\n",
    "    screen.blit(text, text_rect)\n",
    "\n",
    "    pygame.display.flip()\n",
    "    pygame.time.delay(1500)\n",
    "    \n",
    "    return"
   ]
  },
  {
   "cell_type": "code",
   "execution_count": 73,
   "metadata": {},
   "outputs": [
    {
     "name": "stderr",
     "output_type": "stream",
     "text": [
      "C:\\Users\\SamV\\AppData\\Local\\Temp\\ipykernel_13916\\3580960338.py:14: FutureWarning: DataFrame.applymap has been deprecated. Use DataFrame.map instead.\n",
      "  df_color = df_counts.applymap(lambda x: (initial_color_intensity*(5/6)) + (initial_color_intensity/2)*(x/max) if x>0 else 0) / 255\n"
     ]
    },
    {
     "name": "stdout",
     "output_type": "stream",
     "text": [
      "\u001b[1m1/1\u001b[0m \u001b[32m━━━━━━━━━━━━━━━━━━━━\u001b[0m\u001b[37m\u001b[0m \u001b[1m0s\u001b[0m 29ms/step\n"
     ]
    }
   ],
   "source": [
    "pygame.init()\n",
    "\n",
    "width, height = 28**2, 28**2  \n",
    "background_color = (0, 0, 0)\n",
    "draw_color = (255, 255, 255)\n",
    "line_thickness = 2\n",
    "\n",
    "screen = pygame.display.set_mode((width, height))\n",
    "\n",
    "want_to_end = intro_loop(screen)\n",
    "\n",
    "while not want_to_end:\n",
    "    df_condensed, df_counts, want_to_end = take_input(screen)\n",
    "    \n",
    "    if not want_to_end:\n",
    "        df_color, final_pred = handle_input(df_condensed, df_counts)\n",
    "        display_output(screen, df_color, final_pred)\n",
    "\n",
    "# Quit Pygame\n",
    "pygame.quit()"
   ]
  },
  {
   "cell_type": "code",
   "execution_count": null,
   "metadata": {},
   "outputs": [],
   "source": [
    "pygame.init()\n",
    "\n",
    "width, height = 28**2, 28**2  \n",
    "background_color = (0, 0, 0)\n",
    "draw_color = (255, 255, 255)\n",
    "line_thickness = 2\n",
    "\n",
    "#Set up the general window and stuff\n",
    "screen = pygame.display.set_mode((width, height))\n",
    "pygame.display.set_caption(\"Draw Here!\")\n",
    "screen.fill(background_color)\n",
    "clock = pygame.time.Clock()\n",
    "\n",
    "drawing = False\n",
    "running = True\n",
    "\n",
    "while running:\n",
    "    for event in pygame.event.get():\n",
    "        if event.type == pygame.QUIT:\n",
    "            running = False\n",
    "        elif event.type == pygame.KEYDOWN:\n",
    "            if event.key == pygame.K_RETURN:\n",
    "                running = False\n",
    "        elif event.type == pygame.MOUSEBUTTONDOWN:\n",
    "            drawing = True\n",
    "        elif event.type == pygame.MOUSEBUTTONUP:\n",
    "            drawing = False\n",
    "        elif event.type == pygame.MOUSEMOTION and drawing:\n",
    "            pygame.draw.circle(screen, draw_color, event.pos, line_thickness)\n",
    "\n",
    "    pygame.display.flip()\n",
    "    clock.tick(60)\n",
    "\n",
    "#Chat GPT 3.5 helped with the following 4 lines of code\n",
    "buffer_string = pygame.image.tostring(screen, 'RGB')\n",
    "image = pygame.image.fromstring(buffer_string, (width, height), 'RGB')\n",
    "array = pygame.surfarray.array3d(image)\n",
    "\n",
    "is_colored = np.any(array != np.array(background_color).reshape(1, 1, 3), axis=2)\n",
    "\n",
    "df = pd.DataFrame(is_colored)\n",
    "df_condensed, df_counts = downsample(df, 28)\n",
    "\n",
    "df_condensed = df_condensed.T #Because it was formatting and shaping it wrong otherwise\n",
    "df_condensed_final = df_condensed.copy()\n",
    "\n",
    "df_counts = df_counts.T\n",
    "df_counts_final = df_counts.copy()\n",
    "\n",
    "### THIS IS PLACE TO CHANGE WHICH DRAWING METHOD IS USED:\n",
    "df_color = get_color_image_from_counts(df_condensed_final, df_counts_final)\n",
    "#df_color = get_color_image(df_condensed_final)\n",
    "\n",
    "df_color = pd.DataFrame(df_color.values.flatten()).T\n",
    "plt.imshow(df_color.iloc[0].values.reshape(28, 28), cmap='crest')\n",
    "\n",
    "plt.show()\n",
    "\n",
    "pred_v = model.predict(np.array([df_color.iloc[0].values]))\n",
    "\n",
    "\n",
    "'''\n",
    "for r in range(len(df_condensed)):\n",
    "    for c, col_name in enumerate(df_condensed.columns):\n",
    "        surrounding_list = []\n",
    "        for r_add in range(-1, 2):\n",
    "            for c_add in range(-1, 2):\n",
    "                if r+r_add != -1:\n",
    "                    try:\n",
    "                        surrounding_list.append(df_condensed.iat[r+r_add, c+c_add])\n",
    "                    except IndexError:\n",
    "                        pass\n",
    "        if True in surrounding_list:\n",
    "            df_final.at[r, c] = True\n",
    "'''\n",
    "\n",
    "pygame.quit()\n",
    "\n",
    "'''\n",
    "single_row_bool = pd.DataFrame(df_final.values.flatten()).T\n",
    "single_row_color = single_row_bool.applymap(lambda x: 255 if x else 0)\n",
    "single_row_color = single_row_color / 255\n",
    "\n",
    "#plt.imshow(single_row_color.iloc[0].values.reshape(28, 28), cmap='crest')\n",
    "\n",
    "plt.imshow(df_color.iloc[0].values.reshape(28, 28), cmap='crest')\n",
    "\n",
    "\n",
    "plt.show()\n",
    "\n",
    "pred_v = model.predict(np.array([single_row_color.iloc[0].values]))\n",
    "'''\n",
    "\n",
    "print('Model Prediction: ', letters[np.argmax(pred_v)])"
   ]
  }
 ],
 "metadata": {
  "kernelspec": {
   "display_name": ".venv",
   "language": "python",
   "name": "python3"
  },
  "language_info": {
   "codemirror_mode": {
    "name": "ipython",
    "version": 3
   },
   "file_extension": ".py",
   "mimetype": "text/x-python",
   "name": "python",
   "nbconvert_exporter": "python",
   "pygments_lexer": "ipython3",
   "version": "3.9.13"
  }
 },
 "nbformat": 4,
 "nbformat_minor": 2
}
